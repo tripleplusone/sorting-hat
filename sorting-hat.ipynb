{
 "cells": [
  {
   "cell_type": "markdown",
   "metadata": {},
   "source": [
    "# Introduction"
   ]
  },
  {
   "cell_type": "markdown",
   "metadata": {},
   "source": [
    "When you first start learning about data science, one of the first things you learn about are classification algorithms. The concept behind these algorithms is pretty simple: take some information about a data point and place the data point in the correct group or class. \n",
    "\n",
    "A good example is the email spam filter. The goal of a spam filter is to label incoming emails (i.e. data points) as \"Spam\" or \"Not Spam\" using information about the email (the sender, number of capitalized words in the message, etc.). "
   ]
  },
  {
   "cell_type": "code",
   "execution_count": 2,
   "metadata": {
    "collapsed": false
   },
   "outputs": [
    {
     "data": {
      "text/html": [
       "<img src=\"http://www.mail-filter.com/images/filter.png\"/>"
      ],
      "text/plain": [
       "<IPython.core.display.Image object>"
      ]
     },
     "execution_count": 2,
     "metadata": {},
     "output_type": "execute_result"
    }
   ],
   "source": [
    "from IPython.display import Image\n",
    "Image(url=\"http://www.mail-filter.com/images/filter.png\")"
   ]
  },
  {
   "cell_type": "markdown",
   "metadata": {},
   "source": [
    "The email spam filter is a good example, but it gets *boring* after a while. Spam classification is the default example for lectures or conference presentations, so you hear about it over and over again. What if we could talk about a different classification algorithm that was a bit more interesting? Something more nerdy? Something more...magical?"
   ]
  },
  {
   "cell_type": "code",
   "execution_count": 3,
   "metadata": {
    "collapsed": false
   },
   "outputs": [
    {
     "data": {
      "text/html": [
       "<img src=\"https://media.tenor.co/images/da721fe72612fa3fafe268698565c7e5/raw\"/>"
      ],
      "text/plain": [
       "<IPython.core.display.Image object>"
      ]
     },
     "execution_count": 3,
     "metadata": {},
     "output_type": "execute_result"
    }
   ],
   "source": [
    "Image(url=\"https://media.tenor.co/images/da721fe72612fa3fafe268698565c7e5/raw\")"
   ]
  },
  {
   "cell_type": "markdown",
   "metadata": {},
   "source": [
    "That's right folks! Today we'll be talking about the Sorting Hat from the Harry Potter universe. We'll pull some Harry Potter data from the web, analyze it, and then build a classifier to sort characters into the different houses. Should be fun!"
   ]
  },
  {
   "cell_type": "markdown",
   "metadata": {},
   "source": [
    "#### Disclaimer: \n",
    "\n",
    "The classifier built below is not incredibly sophisticated. Thus, it should be treated as a \"first pass\" of the problem in order to demonstrate some basic web-scraping and text-analysis techniques. Also, due to a relatively small sample size, we will not be employing classic training techniques like [cross-validation](https://en.wikipedia.org/wiki/Cross-validation_(statistics). We are simply gathering some data, building a simple rule-based classifier, and seeing the results."
   ]
  },
  {
   "cell_type": "markdown",
   "metadata": {},
   "source": [
    "#### Side note: \n",
    "\n",
    "The idea for this blog post came from Brian Lange's excellent presentation on classification algorithms at [PyData Chicago 2016](http://pydata.org/chicago2016/). You can find the video of the talk [here](https://www.youtube.com/watch?v=y8J6ggsLSfw) and the slides [here](http://www.slideshare.net/brianjlange/its-not-magic-explaining-classification-algorithms-pydata-chicago-2016-edition). Thanks Brian!"
   ]
  },
  {
   "cell_type": "markdown",
   "metadata": {},
   "source": [
    "# Step One: Pulling Data from the Web"
   ]
  },
  {
   "cell_type": "markdown",
   "metadata": {},
   "source": [
    "In case you've been living under a rock for [the last 20 years](https://www.google.com/webhp?sourceid=chrome-instant&rlz=1C1WPZA_enUS687US687&ion=1&espv=2&ie=UTF-8#q=when+was+harry+potter+released? \"Harry Potter release date\"), the Sorting Hat is a magical hat that places incoming Hogwarts students into the four Hogwarts houses: Gryffindor, Slytherin, Hufflepuff, and Ravenclaw. Each house has certain characteristics, and when the Sorting Hat is placed on a student's head, it reads their minds and determines which house they would be the best fit for. By this definition, the Sorting Hat is a multiclass classifier (more than two groups) as opposed to a binary classifier (exactly two groups), like an spam filter."
   ]
  },
  {
   "cell_type": "markdown",
   "metadata": {},
   "source": [
    "If we are going sort students into different houses, we'll need some information about the students. Thankfully, there is a lot of information on [harrypotter.wikia.com](http://harrypotter.wikia.com/wiki/Main_Page). This website has articles on nearly every facet of the Harry Potter universe, including students and faculty. As an added bonus, [Fandom](http://www.wikia.com/about), the company that runs the website, has an easy-to-use [API](http://api.wikia.com/wiki/Quick_Start) with lots of great [documentation](http://api.wikia.com/wiki/Documentation). Hazzah!"
   ]
  },
  {
   "cell_type": "code",
   "execution_count": 4,
   "metadata": {
    "collapsed": false
   },
   "outputs": [
    {
     "data": {
      "text/html": [
       "<img src=\"https://media.giphy.com/media/qLHzYjlA2FW8g/giphy.gif\"/>"
      ],
      "text/plain": [
       "<IPython.core.display.Image object>"
      ]
     },
     "execution_count": 4,
     "metadata": {},
     "output_type": "execute_result"
    }
   ],
   "source": [
    "Image(url=\"https://media.giphy.com/media/qLHzYjlA2FW8g/giphy.gif\")"
   ]
  },
  {
   "cell_type": "markdown",
   "metadata": {},
   "source": [
    "We'll start by importing `pandas` and `requests`. The former will be used for organizing the data, while the later will be used to actually make the data requests to the API.\n",
    "\n",
    "We'll also need a smart way to loop through all the different students at Hogwarts and record the house they are sorted into by the Sorting Hat (this will be the \"truth\" that we will compare our results to). By poking around the website, it appears that articles are grouped by \"Category\", such as \"Hogwarts\\_students\" and \"Films\\_(real-world)\". The Fandom API allows us to list out all of the articles of a given category. \n",
    "\n",
    "Let's use Ravenclaw as an example. We'll get all the data into a variable called `info` and then we'll put it into a Pandas DataFrame."
   ]
  },
  {
   "cell_type": "code",
   "execution_count": 5,
   "metadata": {
    "collapsed": false
   },
   "outputs": [
    {
     "name": "stdout",
     "output_type": "stream",
     "text": [
      "Number of articles: 158\n",
      "\n"
     ]
    },
    {
     "data": {
      "text/html": [
       "<div>\n",
       "<table border=\"1\" class=\"dataframe\">\n",
       "  <thead>\n",
       "    <tr style=\"text-align: right;\">\n",
       "      <th></th>\n",
       "      <th>abstract</th>\n",
       "      <th>comments</th>\n",
       "      <th>id</th>\n",
       "      <th>ns</th>\n",
       "      <th>original_dimensions</th>\n",
       "      <th>revision</th>\n",
       "      <th>thumbnail</th>\n",
       "      <th>title</th>\n",
       "      <th>type</th>\n",
       "      <th>url</th>\n",
       "    </tr>\n",
       "  </thead>\n",
       "  <tbody>\n",
       "    <tr>\n",
       "      <th>0</th>\n",
       "      <td>{{Ravenclaw individual...</td>\n",
       "      <td>0</td>\n",
       "      <td>5080</td>\n",
       "      <td>10</td>\n",
       "      <td>None</td>\n",
       "      <td>{'id': 964956, 'timestamp': '1460047333', 'use...</td>\n",
       "      <td>None</td>\n",
       "      <td>Ravenclaw individual infobox</td>\n",
       "      <td>NaN</td>\n",
       "      <td>/wiki/Template:Ravenclaw_individual_infobox</td>\n",
       "    </tr>\n",
       "    <tr>\n",
       "      <th>1</th>\n",
       "      <td>Roland Abberley was a Ravenclaw student at Hog...</td>\n",
       "      <td>0</td>\n",
       "      <td>33946</td>\n",
       "      <td>0</td>\n",
       "      <td>None</td>\n",
       "      <td>{'id': 1024340, 'timestamp': '1479282062', 'us...</td>\n",
       "      <td>None</td>\n",
       "      <td>Roland Abberley</td>\n",
       "      <td>article</td>\n",
       "      <td>/wiki/Roland_Abberley</td>\n",
       "    </tr>\n",
       "    <tr>\n",
       "      <th>2</th>\n",
       "      <td>Stewart Ackerley (born c. 1982-1983) was a wiz...</td>\n",
       "      <td>0</td>\n",
       "      <td>7011</td>\n",
       "      <td>0</td>\n",
       "      <td>None</td>\n",
       "      <td>{'id': 1024309, 'timestamp': '1479281746', 'us...</td>\n",
       "      <td>None</td>\n",
       "      <td>Stewart Ackerley</td>\n",
       "      <td>article</td>\n",
       "      <td>/wiki/Stewart_Ackerley</td>\n",
       "    </tr>\n",
       "    <tr>\n",
       "      <th>3</th>\n",
       "      <td>Jatin Agarkar was a Ravenclaw student at Hogwa...</td>\n",
       "      <td>0</td>\n",
       "      <td>99467</td>\n",
       "      <td>0</td>\n",
       "      <td>None</td>\n",
       "      <td>{'id': 1039350, 'timestamp': '1482842767', 'us...</td>\n",
       "      <td>None</td>\n",
       "      <td>Jatin Agarkar</td>\n",
       "      <td>article</td>\n",
       "      <td>/wiki/Jatin_Agarkar</td>\n",
       "    </tr>\n",
       "    <tr>\n",
       "      <th>4</th>\n",
       "      <td>Alannis was a female Ravenclaw student at Hogw...</td>\n",
       "      <td>0</td>\n",
       "      <td>27126</td>\n",
       "      <td>0</td>\n",
       "      <td>{'width': 322, 'height': 546}</td>\n",
       "      <td>{'id': 1024320, 'timestamp': '1479281862', 'us...</td>\n",
       "      <td>http://vignette3.wikia.nocookie.net/harrypotte...</td>\n",
       "      <td>Alannis</td>\n",
       "      <td>article</td>\n",
       "      <td>/wiki/Alannis</td>\n",
       "    </tr>\n",
       "  </tbody>\n",
       "</table>\n",
       "</div>"
      ],
      "text/plain": [
       "                                            abstract  comments     id  ns  \\\n",
       "0                          {{Ravenclaw individual...         0   5080  10   \n",
       "1  Roland Abberley was a Ravenclaw student at Hog...         0  33946   0   \n",
       "2  Stewart Ackerley (born c. 1982-1983) was a wiz...         0   7011   0   \n",
       "3  Jatin Agarkar was a Ravenclaw student at Hogwa...         0  99467   0   \n",
       "4  Alannis was a female Ravenclaw student at Hogw...         0  27126   0   \n",
       "\n",
       "             original_dimensions  \\\n",
       "0                           None   \n",
       "1                           None   \n",
       "2                           None   \n",
       "3                           None   \n",
       "4  {'width': 322, 'height': 546}   \n",
       "\n",
       "                                            revision  \\\n",
       "0  {'id': 964956, 'timestamp': '1460047333', 'use...   \n",
       "1  {'id': 1024340, 'timestamp': '1479282062', 'us...   \n",
       "2  {'id': 1024309, 'timestamp': '1479281746', 'us...   \n",
       "3  {'id': 1039350, 'timestamp': '1482842767', 'us...   \n",
       "4  {'id': 1024320, 'timestamp': '1479281862', 'us...   \n",
       "\n",
       "                                           thumbnail  \\\n",
       "0                                               None   \n",
       "1                                               None   \n",
       "2                                               None   \n",
       "3                                               None   \n",
       "4  http://vignette3.wikia.nocookie.net/harrypotte...   \n",
       "\n",
       "                          title     type  \\\n",
       "0  Ravenclaw individual infobox      NaN   \n",
       "1               Roland Abberley  article   \n",
       "2              Stewart Ackerley  article   \n",
       "3                 Jatin Agarkar  article   \n",
       "4                       Alannis  article   \n",
       "\n",
       "                                           url  \n",
       "0  /wiki/Template:Ravenclaw_individual_infobox  \n",
       "1                        /wiki/Roland_Abberley  \n",
       "2                       /wiki/Stewart_Ackerley  \n",
       "3                          /wiki/Jatin_Agarkar  \n",
       "4                                /wiki/Alannis  "
      ]
     },
     "execution_count": 5,
     "metadata": {},
     "output_type": "execute_result"
    }
   ],
   "source": [
    "# Import modules\n",
    "import pandas as pd\n",
    "import requests\n",
    "\n",
    "# Get Ravenclaw articles\n",
    "category = 'Ravenclaws'\n",
    "url = 'http://harrypotter.wikia.com/api/v1/Articles/List?expand=1&limit=1000&category=' + category\n",
    "requested_url = requests.get(url)\n",
    "json_results = requested_url.json()\n",
    "info = json_results['items']\n",
    "ravenclaw_df = pd.DataFrame(info)\n",
    "\n",
    "print('Number of articles: {}'.format(len(info)))\n",
    "print('')\n",
    "ravenclaw_df.head()"
   ]
  },
  {
   "cell_type": "markdown",
   "metadata": {},
   "source": [
    "We can see a few things from this:\n",
    "\n",
    "* The first observation in this list is \"Ravenclaw individual infobox\". Since this is not a student, we want to filter our results on the \"type\" column. \n",
    "* Unfortunately `ravenclaw_df` doesn't have the articles' contents...just article abstracts. In order to get the contents, we need to use a different API request and query data based on the articles' ids.\n",
    "* Furthermore, we can write a loop to run over all of the houses and get one dataframe with all the data we need."
   ]
  },
  {
   "cell_type": "code",
   "execution_count": 6,
   "metadata": {
    "collapsed": false
   },
   "outputs": [
    {
     "name": "stdout",
     "output_type": "stream",
     "text": [
      "Number of student articles: 748\n",
      "\n",
      "      id             title                     url       house\n",
      "0  33349     Astrix Alixan     /wiki/Astrix_Alixan  Gryffindor\n",
      "1  33353   Filemina Alchin   /wiki/Filemina_Alchin  Gryffindor\n",
      "2   7018  Euan Abercrombie  /wiki/Euan_Abercrombie  Gryffindor\n",
      "3  99282      Sakura Akagi      /wiki/Sakura_Akagi  Gryffindor\n",
      "4  99036       Zakir Akram       /wiki/Zakir_Akram  Gryffindor\n",
      "\n",
      "         id             title                     url      house\n",
      "743  100562  Phylis Whitehead  /wiki/Phylis_Whitehead  Slytherin\n",
      "744    3153            Wilkes            /wiki/Wilkes  Slytherin\n",
      "745   35971      Ella Wilkins      /wiki/Ella_Wilkins  Slytherin\n",
      "746   44393    Rufus Winickus    /wiki/Rufus_Winickus  Slytherin\n",
      "747     719     Blaise Zabini     /wiki/Blaise_Zabini  Slytherin\n"
     ]
    }
   ],
   "source": [
    "# Set variables\n",
    "houses = ['Gryffindor', 'Hufflepuff', 'Ravenclaw', 'Slytherin']\n",
    "mydf = pd.DataFrame()\n",
    "\n",
    "# Gets article ids, article url, and house\n",
    "for house in houses:\n",
    "    url = \"http://harrypotter.wikia.com/api/v1/Articles/List?expand=1&limit=1000&category=\" + house + 's'\n",
    "    requested_url = requests.get(url)\n",
    "    json_results = requested_url.json()\n",
    "    info = json_results['items']\n",
    "\n",
    "    house_df = pd.DataFrame(info)\n",
    "    house_df = house_df[house_df['type'] == 'article']\n",
    "    house_df.reset_index(drop=True, inplace=True)\n",
    "    house_df.drop(['abstract', 'comments', 'ns', 'original_dimensions', 'revision', 'thumbnail', 'type'], axis=1, inplace=True)\n",
    "    house_df['house'] = pd.Series([house]*len(house_df))\n",
    "    mydf = pd.concat([mydf, house_df])\n",
    "\n",
    "mydf.reset_index(drop=True, inplace=True)\n",
    "\n",
    "# Print results\n",
    "print('Number of student articles: {}'.format(len(mydf)))\n",
    "print('')\n",
    "print(mydf.head())\n",
    "print('')\n",
    "print(mydf.tail())"
   ]
  },
  {
   "cell_type": "markdown",
   "metadata": {},
   "source": [
    "## Getting article contents"
   ]
  },
  {
   "cell_type": "markdown",
   "metadata": {},
   "source": [
    "Now that we have the article ids, we can start pulling article contents. But some these articles are MASSIVE with incredible amounts of detail...just take a look at [Harry Potter's](http://harrypotter.wikia.com/wiki/Harry_Potter) or [Voldemort's](http://harrypotter.wikia.com/wiki/Tom_Riddle) articles!"
   ]
  },
  {
   "cell_type": "code",
   "execution_count": 7,
   "metadata": {
    "collapsed": false
   },
   "outputs": [
    {
     "data": {
      "text/html": [
       "<img src=\"https://media.giphy.com/media/OzHKDlB6CqwZG/giphy.gif\"/>"
      ],
      "text/plain": [
       "<IPython.core.display.Image object>"
      ]
     },
     "execution_count": 7,
     "metadata": {},
     "output_type": "execute_result"
    }
   ],
   "source": [
    "Image(url=\"https://media.giphy.com/media/OzHKDlB6CqwZG/giphy.gif\")"
   ]
  },
  {
   "cell_type": "markdown",
   "metadata": {},
   "source": [
    "If we look at some of the most important characters, we'll see that they all have a \"Personality and traits\" section in their article. This seems like a logical place to extract information that the Sorting Hat would use in its decision. Not all characters have a \"Personality and traits\" section (such as [Zakir Akram](http://harrypotter.wikia.com/wiki/Zakir_Akram)), so this step  will reduce the number of students in our data by a significant amount. \n",
    "\n",
    "The following code pulls the \"Personality and traits\" section from each article and computes the length of that section (i.e. number of text characters). Then it merges that data with our initial dataframe `mydf` by \"id\" (this takes a little while to run)."
   ]
  },
  {
   "cell_type": "code",
   "execution_count": 8,
   "metadata": {
    "collapsed": false
   },
   "outputs": [],
   "source": [
    "# Loops through articles and pulls the \"Personality and traits\" section from each student\n",
    "# If that section does not exist for a student, we just report a blank string\n",
    "# This takes a few minutes to run\n",
    "text_dict = {}\n",
    "for iden in mydf['id']:\n",
    "    url = 'http://harrypotter.wikia.com/api/v1/Articles/AsSimpleJson?id=' + str(iden)\n",
    "    requested_url = requests.get(url)\n",
    "    json_results = requested_url.json()\n",
    "    sections = json_results['sections']\n",
    "    contents = [sections[i]['content'] for i, x in enumerate(sections) if sections[i]['title'] == 'Personality and traits']\n",
    "                  \n",
    "    if contents:\n",
    "        paragraphs = contents[0]\n",
    "        texts = [paragraphs[i]['text'] for i, x in enumerate(paragraphs)]\n",
    "        all_text = ' '.join(texts)\n",
    "    else:\n",
    "        all_text = ''\n",
    "    text_dict[iden] = all_text\n",
    "\n",
    "# Places data into a DataFrame and computes the length of the \"Personality and traits\" section\n",
    "text_df = pd.DataFrame.from_dict(text_dict, orient='index')\n",
    "text_df.reset_index(inplace=True)\n",
    "text_df.columns = ['id', 'text']\n",
    "text_df['text_len'] = text_df['text'].map(lambda x: len(x))\n",
    "\n",
    "# Merges our text data back with the info about the students\n",
    "mydf_all = pd.merge(mydf, text_df, on='id')\n",
    "mydf_all.sort_values('text_len', ascending=False, inplace=True)"
   ]
  },
  {
   "cell_type": "code",
   "execution_count": 9,
   "metadata": {
    "collapsed": false
   },
   "outputs": [
    {
     "name": "stdout",
     "output_type": "stream",
     "text": [
      "Number of useable articles: 94\n",
      "\n"
     ]
    },
    {
     "data": {
      "text/html": [
       "<div>\n",
       "<table border=\"1\" class=\"dataframe\">\n",
       "  <thead>\n",
       "    <tr style=\"text-align: right;\">\n",
       "      <th></th>\n",
       "      <th>id</th>\n",
       "      <th>title</th>\n",
       "      <th>url</th>\n",
       "      <th>house</th>\n",
       "      <th>text</th>\n",
       "      <th>text_len</th>\n",
       "    </tr>\n",
       "  </thead>\n",
       "  <tbody>\n",
       "    <tr>\n",
       "      <th>689</th>\n",
       "      <td>343</td>\n",
       "      <td>Tom Riddle</td>\n",
       "      <td>/wiki/Tom_Riddle</td>\n",
       "      <td>Slytherin</td>\n",
       "      <td>Voldemort was considered by many to be \"the mo...</td>\n",
       "      <td>26924</td>\n",
       "    </tr>\n",
       "    <tr>\n",
       "      <th>169</th>\n",
       "      <td>13</td>\n",
       "      <td>Harry Potter</td>\n",
       "      <td>/wiki/Harry_Potter</td>\n",
       "      <td>Gryffindor</td>\n",
       "      <td>Harry was an extremely brave, loyal, and selfl...</td>\n",
       "      <td>12987</td>\n",
       "    </tr>\n",
       "    <tr>\n",
       "      <th>726</th>\n",
       "      <td>49</td>\n",
       "      <td>Dolores Umbridge</td>\n",
       "      <td>/wiki/Dolores_Umbridge</td>\n",
       "      <td>Slytherin</td>\n",
       "      <td>Dolores Umbridge was nothing short of a sociop...</td>\n",
       "      <td>9668</td>\n",
       "    </tr>\n",
       "    <tr>\n",
       "      <th>703</th>\n",
       "      <td>259</td>\n",
       "      <td>Horace Slughorn</td>\n",
       "      <td>/wiki/Horace_Slughorn</td>\n",
       "      <td>Slytherin</td>\n",
       "      <td>Horace Slughorn was described as having a bumb...</td>\n",
       "      <td>7944</td>\n",
       "    </tr>\n",
       "    <tr>\n",
       "      <th>54</th>\n",
       "      <td>4178</td>\n",
       "      <td>Albus Dumbledore</td>\n",
       "      <td>/wiki/Albus_Dumbledore</td>\n",
       "      <td>Gryffindor</td>\n",
       "      <td>Considered to be the most powerful wizard of h...</td>\n",
       "      <td>7789</td>\n",
       "    </tr>\n",
       "  </tbody>\n",
       "</table>\n",
       "</div>"
      ],
      "text/plain": [
       "       id             title                     url       house  \\\n",
       "689   343        Tom Riddle        /wiki/Tom_Riddle   Slytherin   \n",
       "169    13      Harry Potter      /wiki/Harry_Potter  Gryffindor   \n",
       "726    49  Dolores Umbridge  /wiki/Dolores_Umbridge   Slytherin   \n",
       "703   259   Horace Slughorn   /wiki/Horace_Slughorn   Slytherin   \n",
       "54   4178  Albus Dumbledore  /wiki/Albus_Dumbledore  Gryffindor   \n",
       "\n",
       "                                                  text  text_len  \n",
       "689  Voldemort was considered by many to be \"the mo...     26924  \n",
       "169  Harry was an extremely brave, loyal, and selfl...     12987  \n",
       "726  Dolores Umbridge was nothing short of a sociop...      9668  \n",
       "703  Horace Slughorn was described as having a bumb...      7944  \n",
       "54   Considered to be the most powerful wizard of h...      7789  "
      ]
     },
     "execution_count": 9,
     "metadata": {},
     "output_type": "execute_result"
    }
   ],
   "source": [
    "# Creates a new DataFrame with just the students who have a \"Personality and traits\" section\n",
    "mydf_relevant = mydf_all[mydf_all['text_len'] > 0]\n",
    "\n",
    "print('Number of useable articles: {}'.format(len(mydf_relevant)))\n",
    "print('')\n",
    "mydf_relevant.head()"
   ]
  },
  {
   "cell_type": "markdown",
   "metadata": {},
   "source": [
    "# Step Two: Getting Hogwarts House Characteristics using NLTK"
   ]
  },
  {
   "cell_type": "markdown",
   "metadata": {},
   "source": [
    "Now that we have data on a number of students, we want to classify students into different houses. In order to do that, we'll need a list of the characteristics for each house. We will start with the characteristics on [harrypotter.wikia.com](http://harrypotter.wikia.com/wiki/Main_Page). "
   ]
  },
  {
   "cell_type": "code",
   "execution_count": 10,
   "metadata": {
    "collapsed": true
   },
   "outputs": [],
   "source": [
    "trait_dict = {}\n",
    "trait_dict['Gryffindor'] = ['bravery', 'nerve', 'chivalry', 'daring', 'courage']\n",
    "trait_dict['Slytherin'] = ['resourcefulness', 'cunning', 'ambition', 'determination', 'self-preservation', 'fraternity',\n",
    "                           'cleverness']\n",
    "trait_dict['Ravenclaw'] = ['intelligence', 'wit', 'wisdom', 'creativity', 'originality', 'individuality', 'acceptance']\n",
    "trait_dict['Hufflepuff'] = ['dedication', 'diligence', 'fairness', 'patience', 'kindness', 'tolerance', 'persistence',\n",
    "                            'loyalty']"
   ]
  },
  {
   "cell_type": "markdown",
   "metadata": {},
   "source": [
    "Notice that all of these characteristics are nouns, which is a good thing; we want to be consistent with our traits. Some of the traits on the wiki were non-nouns, so I changed them as follows:\n",
    "* \"ambitious\" (an adjective) - this can be easily changed to 'ambition'\n",
    "* \"hard work\", \"fair play\", and \"unafraid of toil\" - these multi-word phrases can also be changed to single-word nouns:\n",
    "    * \"hard work\" --> 'diligence'\n",
    "    * \"fair play\" --> 'fairness'\n",
    "    * \"unafraid of toil\" --> 'persistence'"
   ]
  },
  {
   "cell_type": "markdown",
   "metadata": {},
   "source": [
    "Now that we have a list of characteristics for each house, we can simply scan through the \"text\" column in our DataFrame and count the number of times a characteristic appears. Sounds simple, right?"
   ]
  },
  {
   "cell_type": "code",
   "execution_count": 11,
   "metadata": {
    "collapsed": false
   },
   "outputs": [
    {
     "data": {
      "text/html": [
       "<img src=\"https://media.giphy.com/media/o5HKScC1PflLO/giphy.gif\"/>"
      ],
      "text/plain": [
       "<IPython.core.display.Image object>"
      ]
     },
     "execution_count": 11,
     "metadata": {},
     "output_type": "execute_result"
    }
   ],
   "source": [
    "Image(url=\"https://media.giphy.com/media/o5HKScC1PflLO/giphy.gif\")"
   ]
  },
  {
   "cell_type": "markdown",
   "metadata": {},
   "source": [
    "Unfortunately we aren't done yet. Take the following sentences from Neville Longbottom's [\"Personality and traits\" section](http://harrypotter.wikia.com/wiki/Neville_Longbottom#Personality_and_traits):\n",
    "\n",
    "> When he was younger, Neville was clumsy, forgetful, shy, and many considered him ill-suited for Gryffindor house because he seemed **timid**.\n",
    "\n",
    "> With the support of his friends, to whom he was very **loyal**, the encouragement of Professor Remus Lupin to face his fears in his third year, and the motivation of knowing his parents’ torturers were on the loose, Neville became **braver**, more self-assured, and **dedicated** to the fight against Lord Voldemort and his Death Eaters.\n",
    "\n",
    "The bold words in this passage *should* be counted towards one of the houses, but they won't be because they are adjectives. Similarly, words like \"**bravely**\" and \"**braveness**\" also would not count. In order to make our classification algorithm work properly, we need to identify synonyms, antonyms, and word forms."
   ]
  },
  {
   "cell_type": "markdown",
   "metadata": {
    "collapsed": true
   },
   "source": [
    "## Synonyms"
   ]
  },
  {
   "cell_type": "markdown",
   "metadata": {
    "collapsed": true
   },
   "source": [
    "We can explore synonyms of words using the `synsets` function in [WordNet](https://wordnet.princeton.edu/), a lexical database of English words that is included in the [`nltk`](http://www.nltk.org/) module (\"NLTK\" stands for Natural Language Toolkit). A \"synset\", short for \"synonym set\", is a collection of synonymous words, or \"lemmas\". The `synsets` function returns the \"synsets\" that are associated with a particular word. \n",
    "\n",
    "Confused? So was I when first learned about this material. Let's run some code and then analyze it. "
   ]
  },
  {
   "cell_type": "code",
   "execution_count": 12,
   "metadata": {
    "collapsed": false
   },
   "outputs": [
    {
     "name": "stdout",
     "output_type": "stream",
     "text": [
      "Synonym sets associated with the word 'bravery': [Synset('courage.n.01'), Synset('fearlessness.n.01')]\n",
      "\n",
      "Synonym sets associated with the word 'fairness': [Synset('fairness.n.01'), Synset('fairness.n.02'), Synset('paleness.n.02'), Synset('comeliness.n.01')]\n",
      "\n",
      "Synonym sets associated with the word 'wit': [Synset('wit.n.01'), Synset('brain.n.02'), Synset('wag.n.01')]\n",
      "\n",
      "Synonym sets associated with the word 'cunning': [Synset('craft.n.05'), Synset('cunning.n.02'), Synset('cunning.s.01'), Synset('crafty.s.01'), Synset('clever.s.03')]\n",
      "\n",
      "Synonym sets associated with the *noun* 'cunning': [Synset('craft.n.05'), Synset('cunning.n.02')]\n",
      "\n",
      "('courage.n.01', ['courage', 'courageousness', 'bravery', 'braveness'])\n",
      "('fearlessness.n.01', ['fearlessness', 'bravery'])\n",
      "('fairness.n.01', ['fairness', 'equity'])\n",
      "('fairness.n.02', ['fairness', 'fair-mindedness', 'candor', 'candour'])\n",
      "('paleness.n.02', ['paleness', 'blondness', 'fairness'])\n",
      "('comeliness.n.01', ['comeliness', 'fairness', 'loveliness', 'beauteousness'])\n",
      "('wit.n.01', ['wit', 'humor', 'humour', 'witticism', 'wittiness'])\n",
      "('brain.n.02', ['brain', 'brainpower', 'learning_ability', 'mental_capacity', 'mentality', 'wit'])\n",
      "('wag.n.01', ['wag', 'wit', 'card'])\n",
      "('craft.n.05', ['craft', 'craftiness', 'cunning', 'foxiness', 'guile', 'slyness', 'wiliness'])\n",
      "('cunning.n.02', ['cunning'])\n"
     ]
    }
   ],
   "source": [
    "from nltk.corpus import wordnet as wn\n",
    "\n",
    "# Synsets of differents words\n",
    "foo1 = wn.synsets('bravery')\n",
    "print(\"Synonym sets associated with the word 'bravery': {}\".format(foo1))\n",
    "\n",
    "foo2 = wn.synsets('fairness')\n",
    "print('')\n",
    "print(\"Synonym sets associated with the word 'fairness': {}\".format(foo2))\n",
    "\n",
    "foo3 = wn.synsets('wit')\n",
    "print('')\n",
    "print(\"Synonym sets associated with the word 'wit': {}\".format(foo3))\n",
    "\n",
    "foo4 = wn.synsets('cunning')\n",
    "print('')\n",
    "print(\"Synonym sets associated with the word 'cunning': {}\".format(foo4))\n",
    "\n",
    "foo4 = wn.synsets('cunning', pos=wn.NOUN)\n",
    "print('')\n",
    "print(\"Synonym sets associated with the *noun* 'cunning': {}\".format(foo4))\n",
    "print('')\n",
    "\n",
    "# Prints out the synonyms (\"lemmas\") associated with each synset\n",
    "foo_list = [foo1, foo2, foo3, foo4]\n",
    "for foo in foo_list:\n",
    "    for synset in foo:\n",
    "        print((synset.name(), synset.lemma_names()))"
   ]
  },
  {
   "cell_type": "markdown",
   "metadata": {},
   "source": [
    "Okay, that's a lot of output, so let's point out some notes & potential problems:\n",
    "* Typing `wn.synsets('bravery')` yields two synsets: one for 'courage.n.01' and one for 'fearlessness.n.01'. Let's dive deeper into what this actually means:\n",
    "    * The first part ('courage' and 'fearlessness') is the word the synset is centered around...let's call it the \"center\" word. This means that the synonyms (\"lemmas\") in the synset all mean the same thing as the center word.\n",
    "    * The second part ('n') stands for \"noun\". You can see that the synsets associated with the word \"cunning\" include 'crafty.s.01' and 'clever.s.03' (adjectives). These are here because the word \"cunning\" is both a noun and an adjective. To limit our results to just nouns, we can specify `wn.synsets('cunning', pos=wn.NOUN)`.\n",
    "    * The third part ('01') refers to the specific meaning of the center word. For example, 'fairness' can mean \"conformity with rules or standards\" as well as \"making judgments free from discrimination or dishonesty\"."
   ]
  },
  {
   "cell_type": "markdown",
   "metadata": {},
   "source": [
    "We also we see that the `synset` function gives us some synonym sets that we may not want. The synonym sets associated with the word 'fairness' includes 'paleness.n.02 (\"having a naturally light complexion\") and 'comeliness.n.01' (\"being good looking and attractive\"). These are not traits associated with Hufflepuff (although [Neville Longbottom](https://www.pinterest.com/cherokee7743/matthew-lewis/) grew up to be very handsome), so we need to manually exclude these synsets from our analysis. \n",
    "\n",
    "**Translation: getting synonyms is harder than it looks** "
   ]
  },
  {
   "cell_type": "code",
   "execution_count": 13,
   "metadata": {
    "collapsed": false
   },
   "outputs": [
    {
     "data": {
      "text/html": [
       "<img src=\"https://media.giphy.com/media/tpwwhv1BLd31e/giphy.gif\"/>"
      ],
      "text/plain": [
       "<IPython.core.display.Image object>"
      ]
     },
     "execution_count": 13,
     "metadata": {},
     "output_type": "execute_result"
    }
   ],
   "source": [
    "Image(url=\"https://media.giphy.com/media/tpwwhv1BLd31e/giphy.gif\")"
   ]
  },
  {
   "cell_type": "markdown",
   "metadata": {},
   "source": [
    "## Antonyms and Word Forms"
   ]
  },
  {
   "cell_type": "markdown",
   "metadata": {},
   "source": [
    "After we get all the synonyms (which we'll actually do in a moment), we also need to worry about the antonyms (words opposite in meaning) and different word forms (\"brave\", \"bravely\", and \"braver\" for \"bravery\"). We can do a lot of the heavy work in `nltk`, but we will also have to manually create adverbs and comparative / superlative adjectives."
   ]
  },
  {
   "cell_type": "code",
   "execution_count": 14,
   "metadata": {
    "collapsed": false
   },
   "outputs": [
    {
     "name": "stdout",
     "output_type": "stream",
     "text": [
      "Synset: courage.n.01; Lemma: courage; Antonyms: [Lemma('cowardice.n.01.cowardice')]; Word Forms: [Lemma('brave.a.01.courageous')]\n",
      "\n",
      "Synset: courage.n.01; Lemma: courageousness; Antonyms: []; Word Forms: [Lemma('brave.a.01.courageous')]\n",
      "\n",
      "Synset: courage.n.01; Lemma: bravery; Antonyms: []; Word Forms: []\n",
      "\n",
      "Synset: courage.n.01; Lemma: braveness; Antonyms: []; Word Forms: [Lemma('brave.a.01.brave'), Lemma('audacious.s.01.brave')]\n",
      "\n",
      "Synset: fearlessness.n.01; Lemma: fearlessness; Antonyms: [Lemma('fear.n.01.fear')]; Word Forms: [Lemma('audacious.s.01.fearless'), Lemma('unafraid.a.01.fearless')]\n",
      "\n",
      "Synset: fearlessness.n.01; Lemma: bravery; Antonyms: []; Word Forms: []\n",
      "\n"
     ]
    }
   ],
   "source": [
    "# Prints the different lemmas (synonyms), antonyms, and derivationally-related word forms for the synsets of \"bravery\"\n",
    "foo1 = wn.synsets('bravery')\n",
    "for synset in foo1:\n",
    "    for lemma in synset.lemmas():\n",
    "        print(\"Synset: {}; Lemma: {}; Antonyms: {}; Word Forms: {}\".format(synset.name(), lemma.name(), lemma.antonyms(),\n",
    "                                                                           lemma.derivationally_related_forms()))\n",
    "        print(\"\")"
   ]
  },
  {
   "cell_type": "markdown",
   "metadata": {},
   "source": [
    "## Putting it all together"
   ]
  },
  {
   "cell_type": "markdown",
   "metadata": {},
   "source": [
    "The following code creates a list of the synonyms, antonyms, and words forms for each of the house traits described earlier. To make sure we're exhaustive, some of these might not actually be correctly-spelled English words."
   ]
  },
  {
   "cell_type": "code",
   "execution_count": 15,
   "metadata": {
    "collapsed": false
   },
   "outputs": [
    {
     "name": "stdout",
     "output_type": "stream",
     "text": [
      "Gryffindor traits: ['bold', 'bolder', 'boldest', 'boldly', 'boldness', 'brass', 'brassier', 'brassiest', 'brassily', 'brassiness', 'brassy', 'brave', 'bravely', 'braveness', 'braver', 'bravery', 'bravest', 'cheek', 'cheekier', 'cheekiest', 'cheekily', 'cheekiness', 'cheeky', 'chivalry', 'courage', 'courageous', 'courageouser', 'courageousest', 'courageously', 'courageousness', 'daring', 'face', 'fearless', 'fearlesser', 'fearlessest', 'fearlessly', 'fearlessness', 'gallantry', 'hardihood', 'hardiness', 'heart', 'mettle', 'nerve', 'nervier', 'nerviest', 'nervily', 'nerviness', 'nervy', 'politesse', 'spunk', 'spunkier', 'spunkiest', 'spunkily', 'spunkiness', 'spunky']\n",
      "\n",
      "Gryffindor anti-traits: ['cowardice', 'fear', 'timid', 'timider', 'timidest', 'timidity', 'timidly', 'timidness']\n",
      "\n"
     ]
    }
   ],
   "source": [
    "# Manually select the synsets that are relevant to us\n",
    "relevant_synsets = {}\n",
    "relevant_synsets['Ravenclaw'] = [wn.synset('intelligence.n.01'), wn.synset('wit.n.01'), wn.synset('brain.n.02'),\n",
    "                                 wn.synset('wisdom.n.01'), wn.synset('wisdom.n.02'), wn.synset('wisdom.n.03'),\n",
    "                                 wn.synset('wisdom.n.04'), wn.synset('creativity.n.01'), wn.synset('originality.n.01'),\n",
    "                                 wn.synset('originality.n.02'), wn.synset('individuality.n.01'), wn.synset('credence.n.01'),\n",
    "                                 wn.synset('acceptance.n.03')]\n",
    "relevant_synsets['Hufflepuff'] = [wn.synset('dedication.n.01'), wn.synset('commitment.n.04'), wn.synset('commitment.n.02'),\n",
    "                                  wn.synset('diligence.n.01'), wn.synset('diligence.n.02'), wn.synset('application.n.06'),\n",
    "                                  wn.synset('fairness.n.01'), wn.synset('fairness.n.01'), wn.synset('patience.n.01'),\n",
    "                                  wn.synset('kindness.n.01'), wn.synset('forgivingness.n.01'), wn.synset('kindness.n.03'),\n",
    "                                  wn.synset('tolerance.n.03'), wn.synset('tolerance.n.04'), wn.synset('doggedness.n.01'),\n",
    "                                  wn.synset('loyalty.n.01'), wn.synset('loyalty.n.02')]\n",
    "relevant_synsets['Gryffindor'] = [wn.synset('courage.n.01'), wn.synset('fearlessness.n.01'), wn.synset('heart.n.03'),\n",
    "                                  wn.synset('boldness.n.02'), wn.synset('chivalry.n.01'), wn.synset('boldness.n.01')]\n",
    "relevant_synsets['Slytherin'] = [wn.synset('resourcefulness.n.01'), wn.synset('resource.n.03'), wn.synset('craft.n.05'),\n",
    "                                 wn.synset('cunning.n.02'), wn.synset('ambition.n.01'), wn.synset('ambition.n.02'),\n",
    "                                 wn.synset('determination.n.02'), wn.synset('determination.n.04'),\n",
    "                                 wn.synset('self-preservation.n.01'), wn.synset('brotherhood.n.02'),\n",
    "                                 wn.synset('inventiveness.n.01'), wn.synset('brightness.n.02'), wn.synset('ingenuity.n.02')]\n",
    "\n",
    "# Function that will get the different word forms from a lemma\n",
    "def get_forms(lemma):\n",
    "    drfs = lemma.derivationally_related_forms()\n",
    "    output_list = []\n",
    "    if drfs:\n",
    "        for drf in drfs:\n",
    "            drf_pos = str(drf).split(\".\")[1]\n",
    "            if drf_pos in ['n', 's', 'a']:\n",
    "                output_list.append(drf.name().lower())\n",
    "                if drf_pos in ['s', 'a']:\n",
    "                    # Adverbs + \"-ness\" nouns + comparative & superlative adjectives\n",
    "                    if len(drf.name()) == 3:\n",
    "                        last_letter = drf.name()[-1:]\n",
    "                        output_list.append(drf.name().lower() + last_letter + 'er')\n",
    "                        output_list.append(drf.name().lower() + last_letter + 'est')\n",
    "                        output_list.append(drf.name().lower()+'ness')\n",
    "                        output_list.append(drf.name().lower()+'ly')\n",
    "                    elif drf.name()[-4:] in ['able', 'ible']:\n",
    "                        output_list.append(drf.name().lower()+'r')\n",
    "                        output_list.append(drf.name().lower()+'st')\n",
    "                        output_list.append(drf.name().lower()+'ness')\n",
    "                        output_list.append(drf.name()[:-1].lower()+'y')\n",
    "                    elif drf.name()[-1:] == 'e':\n",
    "                        output_list.append(drf.name().lower()+'r')\n",
    "                        output_list.append(drf.name().lower()+'st')\n",
    "                        output_list.append(drf.name().lower()+'ness')\n",
    "                        output_list.append(drf.name().lower()+'ly')\n",
    "                    elif drf.name()[-2:] == 'ic':\n",
    "                        output_list.append(drf.name().lower()+'er')\n",
    "                        output_list.append(drf.name().lower()+'est')\n",
    "                        output_list.append(drf.name().lower()+'ness')\n",
    "                        output_list.append(drf.name().lower()+'ally')\n",
    "                    elif drf.name()[-1:] == 'y':\n",
    "                        output_list.append(drf.name()[:-1].lower()+'ier')\n",
    "                        output_list.append(drf.name()[:-1].lower()+'iest')\n",
    "                        output_list.append(drf.name()[:-1].lower()+'iness')\n",
    "                        output_list.append(drf.name()[:-1].lower()+'ily')\n",
    "                    else:\n",
    "                        output_list.append(drf.name().lower()+'er')\n",
    "                        output_list.append(drf.name().lower()+'est')\n",
    "                        output_list.append(drf.name().lower()+'ness')\n",
    "                        output_list.append(drf.name().lower()+'ly')\n",
    "        return output_list\n",
    "    else:\n",
    "        return output_list\n",
    "\n",
    "# Creates a copy of our trait dictionary\n",
    "# If we don't do this, then we constantly update the dictariony we are looping through, causing an infinite loop\n",
    "import copy\n",
    "new_trait_dict = copy.deepcopy(trait_dict)\n",
    "antonym_dict = {}\n",
    "\n",
    "# Add synonyms and word forms to the (new) trait dictionary; also add antonyms (and their word forms) to the antonym dictionary\n",
    "for house, traits in trait_dict.items():\n",
    "    antonym_dict[house] = []\n",
    "    for trait in traits:\n",
    "        synsets = wn.synsets(trait, pos=wn.NOUN)\n",
    "        for synset in synsets:\n",
    "            if synset in relevant_synsets[house]:\n",
    "                for lemma in synset.lemmas():\n",
    "                    new_trait_dict[house].append(lemma.name().lower())\n",
    "                    if get_forms(lemma):\n",
    "                        new_trait_dict[house].extend(get_forms(lemma))\n",
    "                    if lemma.antonyms():\n",
    "                        for ant in lemma.antonyms():\n",
    "                            antonym_dict[house].append(ant.name().lower())\n",
    "                            if get_forms(ant):\n",
    "                                antonym_dict[house].extend(get_forms(ant))\n",
    "    new_trait_dict[house] = sorted(list(set(new_trait_dict[house])))\n",
    "    antonym_dict[house] = sorted(list(set(antonym_dict[house])))\n",
    "\n",
    "# Print some of our results\n",
    "print(\"Gryffindor traits: {}\".format(new_trait_dict['Gryffindor']))\n",
    "print(\"\")\n",
    "print(\"Gryffindor anti-traits: {}\".format(antonym_dict['Gryffindor']))\n",
    "print(\"\")"
   ]
  },
  {
   "cell_type": "code",
   "execution_count": 16,
   "metadata": {
    "collapsed": false
   },
   "outputs": [
    {
     "name": "stdout",
     "output_type": "stream",
     "text": [
      "Any words overlap in trait dictionary? False\n",
      "Any words overlap in antonym dictionary? False\n"
     ]
    }
   ],
   "source": [
    "# Tests that the trait dictionary and the antonym dictionary don't have any repeats among houses\n",
    "from itertools import combinations\n",
    "def test_overlap(dict):\n",
    "    results = []\n",
    "    house_combos = combinations(list(dict.keys()), 2)\n",
    "    for combo in house_combos:\n",
    "        results.append(set(dict[combo[0]]).isdisjoint(dict[combo[1]]))\n",
    "    return results\n",
    "\n",
    "# Outputs results from our test; should output \"False\"\n",
    "print(\"Any words overlap in trait dictionary? {}\".format(sum(test_overlap(new_trait_dict)) != 6))\n",
    "print(\"Any words overlap in antonym dictionary? {}\".format(sum(test_overlap(antonym_dict)) != 6))"
   ]
  },
  {
   "cell_type": "code",
   "execution_count": 17,
   "metadata": {
    "collapsed": false
   },
   "outputs": [
    {
     "data": {
      "text/html": [
       "<img src=\"https://media.giphy.com/media/10PptCqDkZIkZW/giphy.gif\"/>"
      ],
      "text/plain": [
       "<IPython.core.display.Image object>"
      ]
     },
     "execution_count": 17,
     "metadata": {},
     "output_type": "execute_result"
    }
   ],
   "source": [
    "Image(url=\"https://media.giphy.com/media/10PptCqDkZIkZW/giphy.gif\")"
   ]
  },
  {
   "cell_type": "markdown",
   "metadata": {},
   "source": [
    "# Step 3: Sorting Students into Houses"
   ]
  },
  {
   "cell_type": "markdown",
   "metadata": {},
   "source": [
    "The time has finally come to sort students into their houses! Our classification algorithm will work like this:\n",
    "\n",
    "* For each student, go through their \"Personality and traits\" section word by word\n",
    "* If a word appears in a house's trait list, then we add 1 to that house's score\n",
    "* Similarly, if a word appears in a house's anti-trait list, then  we subtract 1 from that house's score\n",
    "* The house with the highest score is the one we assign the student to\n",
    "* If there is a tie, we will simply output \"Tie!\"\n",
    "\n",
    "For example, if a character's \"Personality and traits\" section was just the sentence \"Alice was brave\", then Alice would have a score of 1 for Gryffindor and zero for all other houses; we would sort Alice into Gryffindor. "
   ]
  },
  {
   "cell_type": "code",
   "execution_count": 18,
   "metadata": {
    "collapsed": false
   },
   "outputs": [
    {
     "name": "stdout",
     "output_type": "stream",
     "text": [
      "Gryffindor\n",
      "Tie!\n"
     ]
    }
   ],
   "source": [
    "# Imports \"word_tokenize\", which breaks up sentences into words and punctuation \n",
    "from nltk import word_tokenize\n",
    "\n",
    "# Function that sorts the students\n",
    "def sort_student(text):\n",
    "    text_list = word_tokenize(text)\n",
    "    text_list = [word.lower() for word in text_list]\n",
    "    score_dict = {}\n",
    "    houses = ['Gryffindor', 'Hufflepuff', 'Ravenclaw', 'Slytherin']\n",
    "    for house in houses:\n",
    "        score_dict[house] = (sum([True for word in text_list if word in new_trait_dict[house]]) - \n",
    "                                  sum([True for word in text_list if word in antonym_dict[house]]))\n",
    "    \n",
    "    sorted_house = max(score_dict, key=score_dict.get)\n",
    "    sorted_house_score = score_dict[sorted_house]\n",
    "    if sum([True for i in score_dict.values() if i==sorted_house_score]) == 1:\n",
    "        return sorted_house\n",
    "    else:\n",
    "        return \"Tie!\"\n",
    "\n",
    "# Test our function\n",
    "print(sort_student('Alice was brave'))\n",
    "print(sort_student('Alice was British'))"
   ]
  },
  {
   "cell_type": "markdown",
   "metadata": {},
   "source": [
    "Our function seems to work, so let's apply it to our data and see what we get!"
   ]
  },
  {
   "cell_type": "code",
   "execution_count": 19,
   "metadata": {
    "collapsed": false
   },
   "outputs": [
    {
     "data": {
      "text/html": [
       "<div>\n",
       "<table border=\"1\" class=\"dataframe\">\n",
       "  <thead>\n",
       "    <tr style=\"text-align: right;\">\n",
       "      <th></th>\n",
       "      <th>id</th>\n",
       "      <th>title</th>\n",
       "      <th>url</th>\n",
       "      <th>house</th>\n",
       "      <th>text</th>\n",
       "      <th>text_len</th>\n",
       "      <th>new_house</th>\n",
       "    </tr>\n",
       "  </thead>\n",
       "  <tbody>\n",
       "    <tr>\n",
       "      <th>689</th>\n",
       "      <td>343</td>\n",
       "      <td>Tom Riddle</td>\n",
       "      <td>/wiki/Tom_Riddle</td>\n",
       "      <td>Slytherin</td>\n",
       "      <td>Voldemort was considered by many to be \"the mo...</td>\n",
       "      <td>26924</td>\n",
       "      <td>Hufflepuff</td>\n",
       "    </tr>\n",
       "    <tr>\n",
       "      <th>169</th>\n",
       "      <td>13</td>\n",
       "      <td>Harry Potter</td>\n",
       "      <td>/wiki/Harry_Potter</td>\n",
       "      <td>Gryffindor</td>\n",
       "      <td>Harry was an extremely brave, loyal, and selfl...</td>\n",
       "      <td>12987</td>\n",
       "      <td>Ravenclaw</td>\n",
       "    </tr>\n",
       "    <tr>\n",
       "      <th>726</th>\n",
       "      <td>49</td>\n",
       "      <td>Dolores Umbridge</td>\n",
       "      <td>/wiki/Dolores_Umbridge</td>\n",
       "      <td>Slytherin</td>\n",
       "      <td>Dolores Umbridge was nothing short of a sociop...</td>\n",
       "      <td>9668</td>\n",
       "      <td>Ravenclaw</td>\n",
       "    </tr>\n",
       "    <tr>\n",
       "      <th>703</th>\n",
       "      <td>259</td>\n",
       "      <td>Horace Slughorn</td>\n",
       "      <td>/wiki/Horace_Slughorn</td>\n",
       "      <td>Slytherin</td>\n",
       "      <td>Horace Slughorn was described as having a bumb...</td>\n",
       "      <td>7944</td>\n",
       "      <td>Slytherin</td>\n",
       "    </tr>\n",
       "    <tr>\n",
       "      <th>54</th>\n",
       "      <td>4178</td>\n",
       "      <td>Albus Dumbledore</td>\n",
       "      <td>/wiki/Albus_Dumbledore</td>\n",
       "      <td>Gryffindor</td>\n",
       "      <td>Considered to be the most powerful wizard of h...</td>\n",
       "      <td>7789</td>\n",
       "      <td>Hufflepuff</td>\n",
       "    </tr>\n",
       "    <tr>\n",
       "      <th>709</th>\n",
       "      <td>33</td>\n",
       "      <td>Severus Snape</td>\n",
       "      <td>/wiki/Severus_Snape</td>\n",
       "      <td>Slytherin</td>\n",
       "      <td>At times, Snape could appear cold, cynical, ma...</td>\n",
       "      <td>6894</td>\n",
       "      <td>Ravenclaw</td>\n",
       "    </tr>\n",
       "    <tr>\n",
       "      <th>164</th>\n",
       "      <td>331</td>\n",
       "      <td>Peter Pettigrew</td>\n",
       "      <td>/wiki/Peter_Pettigrew</td>\n",
       "      <td>Gryffindor</td>\n",
       "      <td>Peter Pettigrew was characterised by weakness....</td>\n",
       "      <td>6600</td>\n",
       "      <td>Gryffindor</td>\n",
       "    </tr>\n",
       "    <tr>\n",
       "      <th>230</th>\n",
       "      <td>14</td>\n",
       "      <td>Ronald Weasley</td>\n",
       "      <td>/wiki/Ronald_Weasley</td>\n",
       "      <td>Gryffindor</td>\n",
       "      <td>Ron was a very funny person, but often emotion...</td>\n",
       "      <td>6078</td>\n",
       "      <td>Ravenclaw</td>\n",
       "    </tr>\n",
       "    <tr>\n",
       "      <th>646</th>\n",
       "      <td>16</td>\n",
       "      <td>Draco Malfoy</td>\n",
       "      <td>/wiki/Draco_Malfoy</td>\n",
       "      <td>Slytherin</td>\n",
       "      <td>Draco was, in general, an arrogant, spiteful b...</td>\n",
       "      <td>5435</td>\n",
       "      <td>Tie!</td>\n",
       "    </tr>\n",
       "    <tr>\n",
       "      <th>468</th>\n",
       "      <td>53</td>\n",
       "      <td>Gilderoy Lockhart</td>\n",
       "      <td>/wiki/Gilderoy_Lockhart</td>\n",
       "      <td>Ravenclaw</td>\n",
       "      <td>Gilderoy Lockhart's defining characteristics w...</td>\n",
       "      <td>5167</td>\n",
       "      <td>Slytherin</td>\n",
       "    </tr>\n",
       "    <tr>\n",
       "      <th>84</th>\n",
       "      <td>47</td>\n",
       "      <td>Rubeus Hagrid</td>\n",
       "      <td>/wiki/Rubeus_Hagrid</td>\n",
       "      <td>Gryffindor</td>\n",
       "      <td>Hagrid was an incredibly warm, kind-hearted ma...</td>\n",
       "      <td>4884</td>\n",
       "      <td>Hufflepuff</td>\n",
       "    </tr>\n",
       "    <tr>\n",
       "      <th>76</th>\n",
       "      <td>15</td>\n",
       "      <td>Hermione Granger</td>\n",
       "      <td>/wiki/Hermione_Granger</td>\n",
       "      <td>Gryffindor</td>\n",
       "      <td>Hermione was noted for being extremely intelli...</td>\n",
       "      <td>4648</td>\n",
       "      <td>Tie!</td>\n",
       "    </tr>\n",
       "    <tr>\n",
       "      <th>114</th>\n",
       "      <td>52</td>\n",
       "      <td>Remus Lupin</td>\n",
       "      <td>/wiki/Remus_Lupin</td>\n",
       "      <td>Gryffindor</td>\n",
       "      <td>Remus was compassionate, intelligent, tolerant...</td>\n",
       "      <td>4321</td>\n",
       "      <td>Hufflepuff</td>\n",
       "    </tr>\n",
       "    <tr>\n",
       "      <th>223</th>\n",
       "      <td>26</td>\n",
       "      <td>Arthur Weasley</td>\n",
       "      <td>/wiki/Arthur_Weasley</td>\n",
       "      <td>Gryffindor</td>\n",
       "      <td>While Arthur Weasley was often seen as \"fun\" i...</td>\n",
       "      <td>4316</td>\n",
       "      <td>Slytherin</td>\n",
       "    </tr>\n",
       "    <tr>\n",
       "      <th>679</th>\n",
       "      <td>5091</td>\n",
       "      <td>Albus Potter</td>\n",
       "      <td>/wiki/Albus_Potter</td>\n",
       "      <td>Slytherin</td>\n",
       "      <td>Albus was a quiet, kind, and thoughtful young ...</td>\n",
       "      <td>3522</td>\n",
       "      <td>Tie!</td>\n",
       "    </tr>\n",
       "    <tr>\n",
       "      <th>23</th>\n",
       "      <td>31</td>\n",
       "      <td>Sirius Black</td>\n",
       "      <td>/wiki/Sirius_Black</td>\n",
       "      <td>Gryffindor</td>\n",
       "      <td>Sirius was true to the ideal of a Gryffindor s...</td>\n",
       "      <td>3483</td>\n",
       "      <td>Hufflepuff</td>\n",
       "    </tr>\n",
       "    <tr>\n",
       "      <th>131</th>\n",
       "      <td>32</td>\n",
       "      <td>Minerva McGonagall</td>\n",
       "      <td>/wiki/Minerva_McGonagall</td>\n",
       "      <td>Gryffindor</td>\n",
       "      <td>Minerva almost constantly exuded magnanimity a...</td>\n",
       "      <td>3188</td>\n",
       "      <td>Hufflepuff</td>\n",
       "    </tr>\n",
       "    <tr>\n",
       "      <th>227</th>\n",
       "      <td>25</td>\n",
       "      <td>Ginevra Weasley</td>\n",
       "      <td>/wiki/Ginevra_Weasley</td>\n",
       "      <td>Gryffindor</td>\n",
       "      <td>Ginny was a forceful, independent girl who oft...</td>\n",
       "      <td>3113</td>\n",
       "      <td>Tie!</td>\n",
       "    </tr>\n",
       "    <tr>\n",
       "      <th>229</th>\n",
       "      <td>30</td>\n",
       "      <td>Percy Weasley</td>\n",
       "      <td>/wiki/Percy_Weasley</td>\n",
       "      <td>Gryffindor</td>\n",
       "      <td>Percy was extremely ambitious and dedicated to...</td>\n",
       "      <td>3099</td>\n",
       "      <td>Ravenclaw</td>\n",
       "    </tr>\n",
       "    <tr>\n",
       "      <th>647</th>\n",
       "      <td>313</td>\n",
       "      <td>Lucius Malfoy</td>\n",
       "      <td>/wiki/Lucius_Malfoy</td>\n",
       "      <td>Slytherin</td>\n",
       "      <td>Despite being the embodiment of wealth and inf...</td>\n",
       "      <td>3069</td>\n",
       "      <td>Ravenclaw</td>\n",
       "    </tr>\n",
       "  </tbody>\n",
       "</table>\n",
       "</div>"
      ],
      "text/plain": [
       "       id               title                       url       house  \\\n",
       "689   343          Tom Riddle          /wiki/Tom_Riddle   Slytherin   \n",
       "169    13        Harry Potter        /wiki/Harry_Potter  Gryffindor   \n",
       "726    49    Dolores Umbridge    /wiki/Dolores_Umbridge   Slytherin   \n",
       "703   259     Horace Slughorn     /wiki/Horace_Slughorn   Slytherin   \n",
       "54   4178    Albus Dumbledore    /wiki/Albus_Dumbledore  Gryffindor   \n",
       "709    33       Severus Snape       /wiki/Severus_Snape   Slytherin   \n",
       "164   331     Peter Pettigrew     /wiki/Peter_Pettigrew  Gryffindor   \n",
       "230    14      Ronald Weasley      /wiki/Ronald_Weasley  Gryffindor   \n",
       "646    16        Draco Malfoy        /wiki/Draco_Malfoy   Slytherin   \n",
       "468    53   Gilderoy Lockhart   /wiki/Gilderoy_Lockhart   Ravenclaw   \n",
       "84     47       Rubeus Hagrid       /wiki/Rubeus_Hagrid  Gryffindor   \n",
       "76     15    Hermione Granger    /wiki/Hermione_Granger  Gryffindor   \n",
       "114    52         Remus Lupin         /wiki/Remus_Lupin  Gryffindor   \n",
       "223    26      Arthur Weasley      /wiki/Arthur_Weasley  Gryffindor   \n",
       "679  5091        Albus Potter        /wiki/Albus_Potter   Slytherin   \n",
       "23     31        Sirius Black        /wiki/Sirius_Black  Gryffindor   \n",
       "131    32  Minerva McGonagall  /wiki/Minerva_McGonagall  Gryffindor   \n",
       "227    25     Ginevra Weasley     /wiki/Ginevra_Weasley  Gryffindor   \n",
       "229    30       Percy Weasley       /wiki/Percy_Weasley  Gryffindor   \n",
       "647   313       Lucius Malfoy       /wiki/Lucius_Malfoy   Slytherin   \n",
       "\n",
       "                                                  text  text_len   new_house  \n",
       "689  Voldemort was considered by many to be \"the mo...     26924  Hufflepuff  \n",
       "169  Harry was an extremely brave, loyal, and selfl...     12987   Ravenclaw  \n",
       "726  Dolores Umbridge was nothing short of a sociop...      9668   Ravenclaw  \n",
       "703  Horace Slughorn was described as having a bumb...      7944   Slytherin  \n",
       "54   Considered to be the most powerful wizard of h...      7789  Hufflepuff  \n",
       "709  At times, Snape could appear cold, cynical, ma...      6894   Ravenclaw  \n",
       "164  Peter Pettigrew was characterised by weakness....      6600  Gryffindor  \n",
       "230  Ron was a very funny person, but often emotion...      6078   Ravenclaw  \n",
       "646  Draco was, in general, an arrogant, spiteful b...      5435        Tie!  \n",
       "468  Gilderoy Lockhart's defining characteristics w...      5167   Slytherin  \n",
       "84   Hagrid was an incredibly warm, kind-hearted ma...      4884  Hufflepuff  \n",
       "76   Hermione was noted for being extremely intelli...      4648        Tie!  \n",
       "114  Remus was compassionate, intelligent, tolerant...      4321  Hufflepuff  \n",
       "223  While Arthur Weasley was often seen as \"fun\" i...      4316   Slytherin  \n",
       "679  Albus was a quiet, kind, and thoughtful young ...      3522        Tie!  \n",
       "23   Sirius was true to the ideal of a Gryffindor s...      3483  Hufflepuff  \n",
       "131  Minerva almost constantly exuded magnanimity a...      3188  Hufflepuff  \n",
       "227  Ginny was a forceful, independent girl who oft...      3113        Tie!  \n",
       "229  Percy was extremely ambitious and dedicated to...      3099   Ravenclaw  \n",
       "647  Despite being the embodiment of wealth and inf...      3069   Ravenclaw  "
      ]
     },
     "execution_count": 19,
     "metadata": {},
     "output_type": "execute_result"
    }
   ],
   "source": [
    "# Turns off a warning\n",
    "pd.options.mode.chained_assignment = None\n",
    "\n",
    "mydf_relevant['new_house'] = mydf_relevant['text'].map(lambda x: sort_student(x))\n",
    "mydf_relevant.head(20)"
   ]
  },
  {
   "cell_type": "code",
   "execution_count": 36,
   "metadata": {
    "collapsed": false
   },
   "outputs": [
    {
     "name": "stdout",
     "output_type": "stream",
     "text": [
      "Match rate: 0.2553191489361702\n",
      "Percentage of ties: 0.32978723404255317\n"
     ]
    }
   ],
   "source": [
    "print(\"Match rate: {}\".format(sum(mydf_relevant['house'] == mydf_relevant['new_house']) / len(mydf_relevant)))\n",
    "print(\"Percentage of ties: {}\".format(sum(mydf_relevant['new_house'] == 'Tie!') / len(mydf_relevant)))"
   ]
  },
  {
   "cell_type": "code",
   "execution_count": 20,
   "metadata": {
    "collapsed": false
   },
   "outputs": [
    {
     "data": {
      "text/html": [
       "<img src=\"https://media.giphy.com/media/i8tL4unehxmvu/giphy.gif\"/>"
      ],
      "text/plain": [
       "<IPython.core.display.Image object>"
      ]
     },
     "execution_count": 20,
     "metadata": {},
     "output_type": "execute_result"
    }
   ],
   "source": [
    "Image(url=\"https://media.giphy.com/media/i8tL4unehxmvu/giphy.gif\")"
   ]
  },
  {
   "cell_type": "code",
   "execution_count": 44,
   "metadata": {
    "collapsed": false
   },
   "outputs": [
    {
     "data": {
      "text/html": [
       "<img src=\"https://media.giphy.com/media/hP8xenrzdIhqw/giphy.gif\"/>"
      ],
      "text/plain": [
       "<IPython.core.display.Image object>"
      ]
     },
     "execution_count": 44,
     "metadata": {},
     "output_type": "execute_result"
    }
   ],
   "source": [
    "Image(url=\"https://media.giphy.com/media/hP8xenrzdIhqw/giphy.gif\")"
   ]
  },
  {
   "cell_type": "markdown",
   "metadata": {},
   "source": [
    "Hmmm. Those are not the results we were expecting. Let's try to investigate why Voldemort was sorted into Hufflepuff. "
   ]
  },
  {
   "cell_type": "code",
   "execution_count": 46,
   "metadata": {
    "collapsed": false
   },
   "outputs": [
    {
     "name": "stdout",
     "output_type": "stream",
     "text": [
      "{'Slytherin': ['ambition'], 'Ravenclaw': ['intelligent', 'intelligent', 'mental', 'individual', 'mental', 'intelligent'], 'Hufflepuff': ['kind', 'loyalty', 'true', 'true', 'true', 'loyalty'], 'Gryffindor': ['brave', 'face', 'bold', 'face', 'bravery', 'brave', 'courageous', 'bravery']}\n",
      "\n",
      "{'Slytherin': [], 'Ravenclaw': ['common'], 'Hufflepuff': [], 'Gryffindor': ['fear', 'fear', 'fear', 'fear', 'fear', 'fear', 'cowardice', 'fear', 'fear']}\n"
     ]
    }
   ],
   "source": [
    "# Voldemort's text data\n",
    "tom_riddle = word_tokenize(mydf_relevant['text'].values[0])\n",
    "tom_riddle = [word.lower() for word in tom_riddle]\n",
    "\n",
    "# Instead of computing a score, we'll list out the words in the text that match words in our traits and antonyms dictionaries\n",
    "words_dict = {}\n",
    "anti_dict = {}\n",
    "houses = ['Gryffindor', 'Hufflepuff', 'Ravenclaw', 'Slytherin']\n",
    "for house in houses:\n",
    "    words_dict[house] = [word for word in tom_riddle if word in new_trait_dict[house]]\n",
    "    anti_dict[house] = [word for word in tom_riddle if word in antonym_dict[house]]\n",
    "\n",
    "print(words_dict)\n",
    "print(\"\")\n",
    "print(anti_dict)"
   ]
  },
  {
   "cell_type": "markdown",
   "metadata": {},
   "source": [
    "As you can see, Slytherin had a score of (1-0) = 1, Ravenclaw had (6-1) = 5, Hufflepuff had (6-0) = 6, and Gryffindor had (8-9) = -1. \n",
    "\n",
    "It's also interesting to note that Voldemort's \"Personality and Traits section\", which is the longest of any student, matched with only 31 words in our synonym and antonym dictionaries, which means that other students probably had much lower matched word counts. This means that we are making our classification decision off very little data, which explains the misclaffication rate and the high number of ties. "
   ]
  },
  {
   "cell_type": "markdown",
   "metadata": {},
   "source": [
    "# Conclusions"
   ]
  },
  {
   "cell_type": "markdown",
   "metadata": {},
   "source": [
    "The classifier we built is not very successful (we do slightly better than simplying guessing), but we have to consider that our approach was pretty simplistic. Modern email spam filters are very sophistocated and don't just classify based on the presence of certain words, so future improvements to our algorithm should similarly take into account more information. Here's a short list of ideas for future enhancements:\n",
    "* Consider which houses other family members were placed\n",
    "* Use other sections of the the Harry Potter wiki articles, like \"Early Life\" or the abstract at the beginning of the article\n",
    "* Instead of taking a small list of traits and their synonyms, create a list of the most frequent words in the \"Personality and traits\" section for each house and classify based on that.\n",
    "* Employ more sophisticated text-analysis techniques like [sentiment analysis](https://en.wikipedia.org/wiki/Sentiment_analysis)"
   ]
  },
  {
   "cell_type": "markdown",
   "metadata": {},
   "source": [
    "However, we did learn a lot about APIs and `nltk` in the process, so at the end of the day I'm calling it a win. Now that we have these tools in our pocket, we have a solid base for future endeavours and can go out and conquer Python just like Neville conquered Nagini. "
   ]
  },
  {
   "cell_type": "code",
   "execution_count": 22,
   "metadata": {
    "collapsed": false
   },
   "outputs": [
    {
     "data": {
      "text/html": [
       "<img src=\"https://media.giphy.com/media/B2ZldWbH24vcY/giphy.gif\"/>"
      ],
      "text/plain": [
       "<IPython.core.display.Image object>"
      ]
     },
     "execution_count": 22,
     "metadata": {},
     "output_type": "execute_result"
    }
   ],
   "source": [
    "Image(url=\"https://media.giphy.com/media/B2ZldWbH24vcY/giphy.gif\")"
   ]
  }
 ],
 "metadata": {
  "kernelspec": {
   "display_name": "Python 3",
   "language": "python",
   "name": "python3"
  },
  "language_info": {
   "codemirror_mode": {
    "name": "ipython",
    "version": 3
   },
   "file_extension": ".py",
   "mimetype": "text/x-python",
   "name": "python",
   "nbconvert_exporter": "python",
   "pygments_lexer": "ipython3",
   "version": "3.5.2"
  }
 },
 "nbformat": 4,
 "nbformat_minor": 0
}
